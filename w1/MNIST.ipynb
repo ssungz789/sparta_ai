{
  "nbformat": 4,
  "nbformat_minor": 0,
  "metadata": {
    "colab": {
      "provenance": [],
      "gpuType": "T4",
      "include_colab_link": true
    },
    "kernelspec": {
      "name": "python3",
      "display_name": "Python 3"
    },
    "language_info": {
      "name": "python"
    },
    "accelerator": "GPU"
  },
  "cells": [
    {
      "cell_type": "markdown",
      "metadata": {
        "id": "view-in-github",
        "colab_type": "text"
      },
      "source": [
        "<a href=\"https://colab.research.google.com/github/ssungz789/sparta_ai/blob/main/w1/basic_MNIST.ipynb\" target=\"_parent\"><img src=\"https://colab.research.google.com/assets/colab-badge.svg\" alt=\"Open In Colab\"/></a>"
      ]
    },
    {
      "cell_type": "markdown",
      "source": [
        "# MNIST 실습\n",
        "\n",
        "이번에는 28x28 흑백 손글씨 이미지를 보고 0~9 사이의 숫자 중 어떤 숫자를 쓴 것인지 예측하는 문제를 실습합니다.\n",
        "이번 실습에서는 GPU를 활용할 것이기 때문에, 이전 챕터에서 Colab에서 GPU를 설정하는 방법을 따라해주시길 바랍니다.\n",
        "\n",
        "GPU를 설정했으면 library들을 import합니다."
      ],
      "metadata": {
        "id": "OPJenlrhihrh"
      }
    },
    {
      "cell_type": "code",
      "execution_count": 35,
      "metadata": {
        "id": "6lXVfXoDtoQh"
      },
      "outputs": [],
      "source": [
        "import torch\n",
        "import torchvision\n",
        "import torchvision.transforms as transforms"
      ]
    },
    {
      "cell_type": "markdown",
      "source": [
        "다음은 dataset을 준비합니다. 손글씨 dataset은 MNIST라는 유명한 dataset이 있습니다. 이 dataset은 `torchvision`에서 제공하고 있으며, 다음과 같이 다운로드 받을 수 있습니다."
      ],
      "metadata": {
        "id": "pF-1zQvmiult"
      }
    },
    {
      "cell_type": "code",
      "source": [
        "transform = transforms.ToTensor()\n",
        "\n",
        "trainset = torchvision.datasets.MNIST(\n",
        "    root='./data',\n",
        "    train=True,\n",
        "    download=True,\n",
        "    transform=transform\n",
        ")\n",
        "testset = torchvision.datasets.MNIST(\n",
        "    root='./data',\n",
        "    train=False,\n",
        "    download=True,\n",
        "    transform=transform\n",
        ")"
      ],
      "metadata": {
        "id": "KAYlqPaRt6ti"
      },
      "execution_count": 36,
      "outputs": []
    },
    {
      "cell_type": "markdown",
      "source": [
        "MNIST는 손글씨 사진과 어떤 숫자를 의미하는지에 대한 label의 pair들로 구성되어있습니다.\n",
        "이 때, 우리는 PyTorch model을 사용할 것이기 때문에 손글씨 사진들을 모두 tensor로 변환해야합니다.\n",
        "이러한 부가적인 변환들은 `torchvision.transforms`에서 제공하고 있으며, `torchvision.datasets.MNIST`에서 `transform` 인자로 받을 수 있습니다.\n",
        "우리는 단순히 사진을 tensor로 바꾸고 싶기 때문에 `transforms.ToTensor()` transformation을 넘겨줍니다.\n",
        "\n",
        "다음은 전체 data의 개수와 첫 번째 data를 출력한 결과입니다."
      ],
      "metadata": {
        "id": "p-GqH7_ZjVMs"
      }
    },
    {
      "cell_type": "code",
      "source": [
        "from matplotlib import pyplot as plt\n",
        "\n",
        "\n",
        "print(len(trainset))\n",
        "print(trainset[0][0].shape, trainset[0][1])\n",
        "plt.imshow(trainset[0][0][0], cmap='gray')"
      ],
      "metadata": {
        "colab": {
          "base_uri": "https://localhost:8080/",
          "height": 482
        },
        "id": "Zsp3sHmojyhT",
        "outputId": "978fb6ab-3c20-45a3-cd8d-962e1642ce00"
      },
      "execution_count": 37,
      "outputs": [
        {
          "output_type": "stream",
          "name": "stdout",
          "text": [
            "60000\n",
            "torch.Size([1, 28, 28]) 5\n"
          ]
        },
        {
          "output_type": "execute_result",
          "data": {
            "text/plain": [
              "<matplotlib.image.AxesImage at 0x7d8819914d30>"
            ]
          },
          "metadata": {},
          "execution_count": 37
        },
        {
          "output_type": "display_data",
          "data": {
            "text/plain": [
              "<Figure size 640x480 with 1 Axes>"
            ],
            "image/png": "[encoded data removed]"
          },
          "metadata": {}
        }
      ]
    },
    {
      "cell_type": "markdown",
      "source": [
        "첫 번째 출력결과를 통해 우리는 6만장의 손글씨 data가 있는 것을 알 수 있습니다.\n",
        "그리고 두 번째 출력결과를 통해 첫 번째 data의 shape은 (1, 28, 28)이고 5라는 숫자를 쓴 사진이라는 것을 알 수 있습니다.\n",
        "마지막으로 `plt.imshow`를 통해 visualize 했을 때 5라는 숫자가 나오는 것을 알 수 있습니다.\n",
        "\n",
        "다음은 SGD를 위해 dataset을 여러 개의 batch로 나누는 과정을 PyTorch로 구현한 모습입니다."
      ],
      "metadata": {
        "id": "udm8wDBsi301"
      }
    },
    {
      "cell_type": "code",
      "source": [
        "batch_size = 256\n",
        "\n",
        "trainloader = torch.utils.data.DataLoader(\n",
        "    trainset,\n",
        "    batch_size=batch_size,\n",
        "    shuffle=True\n",
        ")\n",
        "testloader = torch.utils.data.DataLoader(\n",
        "    testset,\n",
        "    batch_size=batch_size,\n",
        "    shuffle=False\n",
        ")"
      ],
      "metadata": {
        "id": "UxKu3kA2i5WH"
      },
      "execution_count": 38,
      "outputs": []
    },
    {
      "cell_type": "markdown",
      "source": [
        "PyTorch에서는 `DataLoader`가 dataset을 인자로 받아 batch로 나눠줍니다.\n",
        "부가적으로 `batch_size`라는 인자를 통해 batch size를 받고 있으며, `shuffle`이라는 인자를 통해 data들을 섞을지 결정해줍니다.\n",
        "우리는 SGD가 완전 랜덤으로 batch를 구성해야 잘 동작하는 것을 알고 있기 때문에 `shuffle`에 `True`를 넘겨주고 있습니다.\n",
        "\n",
        "다음은 첫 번째 batch를 출력한 모습입니다."
      ],
      "metadata": {
        "id": "z4Qyrm4WlzWt"
      }
    },
    {
      "cell_type": "code",
      "source": [
        "dataiter = iter(trainloader)\n",
        "images, labels = next(dataiter)\n",
        "print(images.shape, labels.shape)"
      ],
      "metadata": {
        "colab": {
          "base_uri": "https://localhost:8080/"
        },
        "id": "_Hd7XxyAvVNz",
        "outputId": "6b9f39f9-fb77-4501-c009-b4e196dbd978"
      },
      "execution_count": 39,
      "outputs": [
        {
          "output_type": "stream",
          "name": "stdout",
          "text": [
            "torch.Size([256, 1, 28, 28]) torch.Size([256])\n"
          ]
        }
      ]
    },
    {
      "cell_type": "markdown",
      "source": [
        "`images`는 첫 번째 batch의 image들이고 `labels`는 첫 번째 batch의 label들입니다.\n",
        "위에서 batch size를 64로 설정했기 때문에 총 64개의 image와 label들이 있어야 합니다.\n",
        "실제 shape 출력 결과를 보면 그렇다는 것을 알 수 있습니다.\n",
        "\n",
        "다음은 (n, 1, 28, 28) shape의 image를 입력받아 0~9 사이의 정수 하나를 출력하는 3-layer MLP를 구현합니다."
      ],
      "metadata": {
        "id": "h0ZY5mDimRUK"
      }
    },
    {
      "cell_type": "code",
      "source": [
        "from torch import nn\n",
        "\n",
        "\n",
        "class Model(nn.Module):\n",
        "  def __init__(self, input_dim, n_dim):\n",
        "    super().__init__()\n",
        "\n",
        "    self.layer1 = nn.Linear(input_dim, n_dim)\n",
        "    self.layer2 = nn.Linear(n_dim, n_dim)\n",
        "    self.layer3 = nn.Linear(n_dim, 10)\n",
        "\n",
        "    self.act = nn.ReLU()\n",
        "\n",
        "  def forward(self, x):\n",
        "    x = torch.flatten(x, start_dim=1)\n",
        "    x = self.act(self.layer1(x))\n",
        "    x = self.act(self.layer2(x))\n",
        "    x = self.act(self.layer3(x))\n",
        "\n",
        "    return x\n",
        "\n",
        "\n",
        "model = Model(28 * 28 * 1, 1024)"
      ],
      "metadata": {
        "id": "OLOA-ZGTuVVG"
      },
      "execution_count": 40,
      "outputs": []
    },
    {
      "cell_type": "markdown",
      "source": [
        "이전의 2-layer MLP와 유사한 형태임을 알 수 있습니다.\n",
        "여기서 특이사항은 `forward`의 첫 번째 줄에 `torch.flatten`을 사용한다는 것입니다.\n",
        "`Linear`는 이전에도 봤다시피 (n, d) 형태의 shape을 입력받습니다.\n",
        "이미지는 (n, 1, 28, 28)이기 때문에 (n, 1 * 28 * 28)로 shape을 변환해야 선형 함수에 입력으로 주어줄 수 있게 됩니다.\n",
        "이 역할을 수행하는 것이 바로 `torch.flatten`입니다.\n",
        "우리는 첫 번째 shape인 n을 보존할 것이기 때문에 flatten할 차원은 `start_dim=1`로 넘겨주게 됩니다.\n",
        "\n",
        "다음은 gradient descent를 수행해줄 optimizer를 구현하는 모습입니다."
      ],
      "metadata": {
        "id": "tag1rNcwmnAr"
      }
    },
    {
      "cell_type": "code",
      "source": [
        "from torch.optim import SGD\n",
        "\n",
        "lr = 0.001\n",
        "model = model.to('cuda')\n",
        "\n",
        "optimizer = SGD(model.parameters(), lr=lr)"
      ],
      "metadata": {
        "id": "ypS0TcOlvBhZ"
      },
      "execution_count": 41,
      "outputs": []
    },
    {
      "cell_type": "markdown",
      "source": [
        "이전 코드와 거의 똑같습니다. 다른 점은 `model.to('cuda')` 코드를 통해 우리가 구현한 model을 GPU로 옮긴 것입니다.\n",
        "MNIST 부터는 모델과 data가 커지면서 훨씬 많은 행렬 연산이 이루어지기 때문에 GPU를 활용하는 것이 빠릅니다.\n",
        "\n",
        "다음은 model을 MNIST에 학습하는 코드입니다."
      ],
      "metadata": {
        "id": "5PooeOKMnRfZ"
      }
    },
    {
      "cell_type": "code",
      "source": [
        "def accuracy(model, dataloader):\n",
        "  cnt = 0\n",
        "  acc = 0\n",
        "  for data in dataloader:\n",
        "    inputs, labels = data\n",
        "    inputs, labels = inputs.to('cuda'), labels.to('cuda')\n",
        "\n",
        "    preds = model(inputs)\n",
        "    preds = torch.argmax(preds, dim=-1)\n",
        "\n",
        "    cnt += labels.shape[0]\n",
        "    acc += (labels == preds).sum().item()\n",
        "  return acc/cnt"
      ],
      "metadata": {
        "id": "K44Y4lHWj-IN"
      },
      "execution_count": 42,
      "outputs": []
    },
    {
      "cell_type": "code",
      "source": [
        "n_epochs = 100\n",
        "\n",
        "criterion = nn.CrossEntropyLoss()\n",
        "train_acc = []\n",
        "test_acc = []\n",
        "for epoch in range(n_epochs):\n",
        "  total_loss = 0.\n",
        "  for data in trainloader:\n",
        "    model.zero_grad()\n",
        "    inputs, labels = data\n",
        "    inputs, labels = inputs.to('cuda'), labels.to('cuda')\n",
        "\n",
        "    preds = model(inputs)\n",
        "    #loss = (preds[:, 0] - labels).pow(2).mean()\n",
        "    loss=criterion(preds, labels)\n",
        "    loss.backward()\n",
        "    optimizer.step()\n",
        "\n",
        "    total_loss += loss.item()\n",
        "  train_loss = accuracy(model, trainloader)\n",
        "  test_loss = accuracy(model, testloader)\n",
        "\n",
        "  train_acc.append(train_loss)\n",
        "  test_acc.append(test_loss)\n",
        "\n",
        "  print(f\"Epoch {epoch:3d} | Loss: {total_loss}\")"
      ],
      "metadata": {
        "colab": {
          "base_uri": "https://localhost:8080/"
        },
        "id": "TryX1hewvNiB",
        "outputId": "35b34e41-5015-474f-b7b0-1abdfa43f64b"
      },
      "execution_count": 43,
      "outputs": [
        {
          "output_type": "stream",
          "name": "stdout",
          "text": [
            "Epoch   0 | Loss: 540.4389345645905\n",
            "Epoch   1 | Loss: 538.4738502502441\n",
            "Epoch   2 | Loss: 536.5669877529144\n",
            "Epoch   3 | Loss: 534.3724162578583\n",
            "Epoch   4 | Loss: 531.814216375351\n",
            "Epoch   5 | Loss: 529.023711681366\n",
            "Epoch   6 | Loss: 525.9919528961182\n",
            "Epoch   7 | Loss: 522.6627733707428\n",
            "Epoch   8 | Loss: 519.0050702095032\n",
            "Epoch   9 | Loss: 514.8727948665619\n",
            "Epoch  10 | Loss: 509.93079352378845\n",
            "Epoch  11 | Loss: 504.4267988204956\n",
            "Epoch  12 | Loss: 498.3772656917572\n",
            "Epoch  13 | Loss: 491.7646539211273\n",
            "Epoch  14 | Loss: 484.4970316886902\n",
            "Epoch  15 | Loss: 476.68561398983\n",
            "Epoch  16 | Loss: 468.2435699701309\n",
            "Epoch  17 | Loss: 459.33665204048157\n",
            "Epoch  18 | Loss: 449.7874255180359\n",
            "Epoch  19 | Loss: 439.94031953811646\n",
            "Epoch  20 | Loss: 429.5263056755066\n",
            "Epoch  21 | Loss: 418.8841825723648\n",
            "Epoch  22 | Loss: 408.1299396753311\n",
            "Epoch  23 | Loss: 397.3733072280884\n",
            "Epoch  24 | Loss: 386.8249479532242\n",
            "Epoch  25 | Loss: 376.5642250776291\n",
            "Epoch  26 | Loss: 366.70578396320343\n",
            "Epoch  27 | Loss: 357.4084093570709\n",
            "Epoch  28 | Loss: 348.66205191612244\n",
            "Epoch  29 | Loss: 340.5272122621536\n",
            "Epoch  30 | Loss: 332.97035014629364\n",
            "Epoch  31 | Loss: 325.92248797416687\n",
            "Epoch  32 | Loss: 319.33870697021484\n",
            "Epoch  33 | Loss: 313.13236606121063\n",
            "Epoch  34 | Loss: 307.41809725761414\n",
            "Epoch  35 | Loss: 302.0625295639038\n",
            "Epoch  36 | Loss: 296.95860266685486\n",
            "Epoch  37 | Loss: 292.41772639751434\n",
            "Epoch  38 | Loss: 287.76179909706116\n",
            "Epoch  39 | Loss: 283.7044131755829\n",
            "Epoch  40 | Loss: 279.7275437116623\n",
            "Epoch  41 | Loss: 276.1331753730774\n",
            "Epoch  42 | Loss: 272.5683301091194\n",
            "Epoch  43 | Loss: 269.21022260189056\n",
            "Epoch  44 | Loss: 266.25735318660736\n",
            "Epoch  45 | Loss: 263.455557346344\n",
            "Epoch  46 | Loss: 260.30926233530045\n",
            "Epoch  47 | Loss: 257.83339381217957\n",
            "Epoch  48 | Loss: 255.2766716480255\n",
            "Epoch  49 | Loss: 252.95486003160477\n",
            "Epoch  50 | Loss: 250.66432374715805\n",
            "Epoch  51 | Loss: 248.62091141939163\n",
            "Epoch  52 | Loss: 246.5279935002327\n",
            "Epoch  53 | Loss: 244.46928495168686\n",
            "Epoch  54 | Loss: 242.62035870552063\n",
            "Epoch  55 | Loss: 240.88121962547302\n",
            "Epoch  56 | Loss: 239.21349012851715\n",
            "Epoch  57 | Loss: 237.49815779924393\n",
            "Epoch  58 | Loss: 235.86513876914978\n",
            "Epoch  59 | Loss: 234.46080654859543\n",
            "Epoch  60 | Loss: 232.97055691480637\n",
            "Epoch  61 | Loss: 231.69788712263107\n",
            "Epoch  62 | Loss: 230.25956058502197\n",
            "Epoch  63 | Loss: 228.7946303486824\n",
            "Epoch  64 | Loss: 227.49991059303284\n",
            "Epoch  65 | Loss: 226.4170988202095\n",
            "Epoch  66 | Loss: 225.20902675390244\n",
            "Epoch  67 | Loss: 224.26698684692383\n",
            "Epoch  68 | Loss: 222.93092292547226\n",
            "Epoch  69 | Loss: 221.9036527276039\n",
            "Epoch  70 | Loss: 220.92442005872726\n",
            "Epoch  71 | Loss: 219.99205434322357\n",
            "Epoch  72 | Loss: 218.96624022722244\n",
            "Epoch  73 | Loss: 218.02601635456085\n",
            "Epoch  74 | Loss: 217.11677032709122\n",
            "Epoch  75 | Loss: 216.26041495800018\n",
            "Epoch  76 | Loss: 215.33221113681793\n",
            "Epoch  77 | Loss: 214.57630443572998\n",
            "Epoch  78 | Loss: 213.85344058275223\n",
            "Epoch  79 | Loss: 212.9989902973175\n",
            "Epoch  80 | Loss: 212.23862272500992\n",
            "Epoch  81 | Loss: 211.51579892635345\n",
            "Epoch  82 | Loss: 210.9761768579483\n",
            "Epoch  83 | Loss: 210.08339965343475\n",
            "Epoch  84 | Loss: 209.43811720609665\n",
            "Epoch  85 | Loss: 208.85127705335617\n",
            "Epoch  86 | Loss: 208.21620643138885\n",
            "Epoch  87 | Loss: 207.63726717233658\n",
            "Epoch  88 | Loss: 207.0060984492302\n",
            "Epoch  89 | Loss: 206.40920239686966\n",
            "Epoch  90 | Loss: 205.83666652441025\n",
            "Epoch  91 | Loss: 205.2685485482216\n",
            "Epoch  92 | Loss: 204.7283542752266\n",
            "Epoch  93 | Loss: 204.33235609531403\n",
            "Epoch  94 | Loss: 203.78923588991165\n",
            "Epoch  95 | Loss: 203.2394226193428\n",
            "Epoch  96 | Loss: 202.58691012859344\n",
            "Epoch  97 | Loss: 202.38624542951584\n",
            "Epoch  98 | Loss: 201.6785128712654\n",
            "Epoch  99 | Loss: 201.42802739143372\n"
          ]
        }
      ]
    },
    {
      "cell_type": "markdown",
      "source": [
        "출력 결과를 보면 잘 수렴하는 것을 볼 수 있습니다.\n",
        "이전 구현과 다른 점은 다음 두 가지입니다.\n",
        "- `for data in trainloader`를 통해 batch들을 iterate하면서 model을 학습합니다.\n",
        "- `inputs, labels = inputs.to('cuda'), labels.to('cuda')`를 통해 model의 입력으로 들어가는 tensor들을 GPU로 보냅니다.\n",
        "\n",
        "마지막으로 첫 번째 data에 대한 예측 결과를 살펴봅시다."
      ],
      "metadata": {
        "id": "YRDcptrqniX7"
      }
    },
    {
      "cell_type": "markdown",
      "source": [
        "여기서 idx를 조정하여 다른 data에 대한 출력 결과도 볼 수 있습니다.\n",
        "예측 결과를 보시면 아직 성능이 그렇게 좋지 않은 것을 알 수 있습니다."
      ],
      "metadata": {
        "id": "qzgSOrMsoZ2z"
      }
    },
    {
      "cell_type": "code",
      "source": [
        "len(test_acc)"
      ],
      "metadata": {
        "id": "ECl5MzWNnxZc",
        "outputId": "583e4bf9-a4f6-47f3-f261-6292e3d8c0c3",
        "colab": {
          "base_uri": "https://localhost:8080/"
        }
      },
      "execution_count": 44,
      "outputs": [
        {
          "output_type": "execute_result",
          "data": {
            "text/plain": [
              "100"
            ]
          },
          "metadata": {},
          "execution_count": 44
        }
      ]
    },
    {
      "cell_type": "code",
      "source": [
        "import numpy as np\n",
        "import matplotlib.pyplot as plt\n",
        "def plot_acc(train_acc, test_acc, label1='train', label2='test'):\n",
        "  x = np.arange(len(train_acc))\n",
        "\n",
        "  plt.plot(x, train_acc, label=label1)\n",
        "  plt.plot(x, test_acc, label=label2)\n",
        "  plt.legend()\n",
        "  plt.show()\n",
        "\n",
        "plot_acc(train_acc, test_acc)"
      ],
      "metadata": {
        "id": "d6M4SpWQoML9",
        "outputId": "196254f1-c216-4731-d7aa-1555892aaa60",
        "colab": {
          "base_uri": "https://localhost:8080/",
          "height": 430
        }
      },
      "execution_count": 46,
      "outputs": [
        {
          "output_type": "display_data",
          "data": {
            "text/plain": [
              "<Figure size 640x480 with 1 Axes>"
            ],
            "image/png": "[encoded data removed]"
          },
          "metadata": {}
        }
      ]
    }
  ]
}
