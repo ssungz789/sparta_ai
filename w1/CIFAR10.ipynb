{
 "cells": [
  {
   "cell_type": "code",
   "execution_count": 207,
   "id": "7c991b48-4f8f-445a-a81c-f2e99dc87623",
   "metadata": {},
   "outputs": [],
   "source": [
    "import torch\n",
    "import torchvision\n",
    "import torchvision.transforms as transforms"
   ]
  },
  {
   "cell_type": "code",
   "execution_count": 208,
   "id": "9208f27d-4e97-4d9c-989a-99617a8a3a56",
   "metadata": {},
   "outputs": [
    {
     "name": "stdout",
     "output_type": "stream",
     "text": [
      "Downloading https://www.cs.toronto.edu/~kriz/cifar-10-python.tar.gz to ./data/cifar-10-python.tar.gz\n"
     ]
    },
    {
     "name": "stderr",
     "output_type": "stream",
     "text": [
      "100%|███████████████████████| 170498071/170498071 [00:12<00:00, 13520122.17it/s]\n"
     ]
    },
    {
     "name": "stdout",
     "output_type": "stream",
     "text": [
      "Extracting ./data/cifar-10-python.tar.gz to ./data\n",
      "Files already downloaded and verified\n"
     ]
    }
   ],
   "source": [
    "transform = transforms.ToTensor()\n",
    "\n",
    "trainset = torchvision.datasets.CIFAR10(\n",
    "    root='./data',\n",
    "    train=True,\n",
    "    download=True,\n",
    "    transform=transform\n",
    ")\n",
    "\n",
    "testset = torchvision.datasets.CIFAR10(\n",
    "    root='./data',\n",
    "    train=False,\n",
    "    download=True,\n",
    "    transform=transform\n",
    ")"
   ]
  },
  {
   "cell_type": "code",
   "execution_count": null,
   "id": "ed4ee1cd-85a0-4e5e-a978-39dc44078886",
   "metadata": {},
   "outputs": [],
   "source": [
    "from matplotlib import pyplot as plt\n",
    "\n",
    "print(len(trainset))\n",
    "print(trainset[0][0].shape, trainset[0][1])\n",
    "print(trainset[1][0].shape)\n",
    "\n",
    "plt.imshow(trainset[4][0].permute(1, 2, 0))"
   ]
  },
  {
   "cell_type": "code",
   "execution_count": 209,
   "id": "d0b57cad-f71b-49f4-966e-a3cbcbc07610",
   "metadata": {},
   "outputs": [],
   "source": [
    "batch_size = 256\n",
    "\n",
    "trainloader = torch.utils.data.DataLoader(\n",
    "    trainset,\n",
    "    batch_size=batch_size,\n",
    "    shuffle=True\n",
    ")\n",
    "\n",
    "testloader = torch.utils.data.DataLoader(\n",
    "    trainset,\n",
    "    batch_size=batch_size,\n",
    "    shuffle=False\n",
    ")"
   ]
  },
  {
   "cell_type": "code",
   "execution_count": 210,
   "id": "bc81ee8d-bbed-4370-9d8c-387fee16b92b",
   "metadata": {},
   "outputs": [
    {
     "name": "stdout",
     "output_type": "stream",
     "text": [
      "torch.Size([256, 3, 32, 32]) torch.Size([256])\n"
     ]
    }
   ],
   "source": [
    "dataiter = iter(trainloader)\n",
    "images, labels = next(dataiter)\n",
    "print(images.shape, labels.shape)"
   ]
  },
  {
   "cell_type": "code",
   "execution_count": 211,
   "id": "985160e2-1879-40c5-a948-c89ed18290c7",
   "metadata": {},
   "outputs": [],
   "source": [
    "from torch import nn\n",
    "\n",
    "class Model(nn.Module):\n",
    "  def __init__(self, input_dim, n_dim):\n",
    "    super().__init__()\n",
    "\n",
    "    self.layer1 = nn.Linear(input_dim, n_dim)\n",
    "    self.layer2 = nn.Linear(n_dim, n_dim)\n",
    "    self.layer3 = nn.Linear(n_dim, 10)\n",
    "\n",
    "    self.act = nn.LeakyReLU()\n",
    "\n",
    "  def forward(self, x):\n",
    "    x = torch.flatten(x, start_dim=1)\n",
    "    x = self.act(self.layer1(x))\n",
    "    x = self.act(self.layer2(x))\n",
    "    x = self.act(self.layer3(x))\n",
    "\n",
    "    return x\n",
    "\n",
    "class sig_Model(nn.Module):\n",
    "  def __init__(self, input_dim, n_dim):\n",
    "    super().__init__()\n",
    "\n",
    "    self.layer1 = nn.Linear(input_dim, n_dim)\n",
    "    self.layer2 = nn.Linear(n_dim, n_dim)\n",
    "    self.layer3 = nn.Linear(n_dim, 10)\n",
    "\n",
    "    self.act = nn.Sigmoid()\n",
    "\n",
    "  def forward(self, x):\n",
    "    x = torch.flatten(x, start_dim=1)\n",
    "    x = self.act(self.layer1(x))\n",
    "    x = self.act(self.layer2(x))\n",
    "    x = self.act(self.layer3(x))\n",
    "\n",
    "    return x\n",
    "\n",
    "class dropout_Model(nn.Module):\n",
    "  def __init__(self, input_dim, n_dim):\n",
    "    super().__init__()\n",
    "\n",
    "    self.layer1 = nn.Linear(input_dim, n_dim)\n",
    "    self.layer2 = nn.Linear(n_dim, n_dim)\n",
    "    self.layer3 = nn.Linear(n_dim, 10)\n",
    "    slef.m = nn.Dropout(p=0.1)\n",
    "    self.act = nn.LeakyReLU()\n",
    "    \n",
    "\n",
    "  def forward(self, x):\n",
    "    x = torch.flatten(x, start_dim=1)\n",
    "    x = self.m(self.act(self.layer1(x)))\n",
    "    x = self.m(self.act(self.layer2(x)))\n",
    "    x = self.act(self.layer3(x))\n",
    "\n",
    "    return x\n"
   ]
  },
  {
   "cell_type": "code",
   "execution_count": 265,
   "id": "a7ca735e-dc54-42be-8031-afb21b9217d3",
   "metadata": {},
   "outputs": [],
   "source": [
    "from torch.optim import SGD\n",
    "from torch.optim import Adam\n",
    "lr = 0.001"
   ]
  },
  {
   "cell_type": "markdown",
   "id": "185bb850-2dab-475d-9442-a86cb070ed9f",
   "metadata": {},
   "source": [
    "## SGD Train"
   ]
  },
  {
   "cell_type": "code",
   "execution_count": 213,
   "id": "01fb081b-6991-4e7b-8921-68296b9bc04d",
   "metadata": {},
   "outputs": [],
   "source": [
    "def accuracy(model, dataloader):\n",
    "  cnt = 0\n",
    "  acc = 0\n",
    "  for data in dataloader:\n",
    "    inputs, labels = data\n",
    "    inputs, labels = inputs.to('mps'), labels.to('mps')\n",
    "\n",
    "    preds = model(inputs)\n",
    "    preds = torch.argmax(preds, dim=-1)\n",
    "\n",
    "    cnt += labels.shape[0]\n",
    "    acc += (labels == preds).sum().item()\n",
    "  return acc/cnt"
   ]
  },
  {
   "cell_type": "code",
   "execution_count": 269,
   "id": "cd03234e-e6e8-44fa-84fd-a25a91dd5ce2",
   "metadata": {},
   "outputs": [
    {
     "name": "stdout",
     "output_type": "stream",
     "text": [
      "Epoch   0 | Loss: 450.94391417503357\n",
      "Epoch   1 | Loss: 450.2262854576111\n",
      "Epoch   2 | Loss: 449.3842842578888\n",
      "Epoch   3 | Loss: 448.33328795433044\n",
      "Epoch   4 | Loss: 447.34166193008423\n",
      "Epoch   5 | Loss: 446.3948278427124\n",
      "Epoch   6 | Loss: 445.4454667568207\n",
      "Epoch   7 | Loss: 444.47463274002075\n",
      "Epoch   8 | Loss: 443.47728514671326\n",
      "Epoch   9 | Loss: 442.4402153491974\n",
      "Epoch  10 | Loss: 441.17684388160706\n",
      "Epoch  11 | Loss: 439.78591799736023\n",
      "Epoch  12 | Loss: 438.45037269592285\n",
      "Epoch  13 | Loss: 437.028174161911\n",
      "Epoch  14 | Loss: 435.6576929092407\n",
      "Epoch  15 | Loss: 434.3037233352661\n",
      "Epoch  16 | Loss: 432.91885566711426\n",
      "Epoch  17 | Loss: 431.5440483093262\n",
      "Epoch  18 | Loss: 430.2354655265808\n",
      "Epoch  19 | Loss: 428.9395236968994\n",
      "Epoch  20 | Loss: 427.710401058197\n",
      "Epoch  21 | Loss: 426.46527123451233\n",
      "Epoch  22 | Loss: 423.0171368122101\n",
      "Epoch  23 | Loss: 420.2039806842804\n",
      "Epoch  24 | Loss: 418.07746267318726\n",
      "Epoch  25 | Loss: 416.1276466846466\n",
      "Epoch  26 | Loss: 414.28047370910645\n",
      "Epoch  27 | Loss: 412.4727075099945\n",
      "Epoch  28 | Loss: 410.8454065322876\n",
      "Epoch  29 | Loss: 409.2407419681549\n",
      "Epoch  30 | Loss: 407.64564061164856\n",
      "Epoch  31 | Loss: 406.257928609848\n",
      "Epoch  32 | Loss: 404.8628851175308\n",
      "Epoch  33 | Loss: 403.5118160247803\n",
      "Epoch  34 | Loss: 399.98076808452606\n",
      "Epoch  35 | Loss: 396.6128671169281\n",
      "Epoch  36 | Loss: 394.12780797481537\n",
      "Epoch  37 | Loss: 391.9334751367569\n",
      "Epoch  38 | Loss: 389.8638769388199\n",
      "Epoch  39 | Loss: 388.01247680187225\n",
      "Epoch  40 | Loss: 386.3657958507538\n",
      "Epoch  41 | Loss: 384.8676096200943\n",
      "Epoch  42 | Loss: 383.3273003101349\n",
      "Epoch  43 | Loss: 382.00139129161835\n",
      "Epoch  44 | Loss: 380.67805910110474\n",
      "Epoch  45 | Loss: 379.48319697380066\n",
      "Epoch  46 | Loss: 378.3332793712616\n",
      "Epoch  47 | Loss: 377.3279951810837\n",
      "Epoch  48 | Loss: 376.3749725818634\n",
      "Epoch  49 | Loss: 375.44354248046875\n"
     ]
    }
   ],
   "source": [
    "n_epochs = 50\n",
    "criterion = nn.CrossEntropyLoss()\n",
    "sgd_acc = []\n",
    "model = Model(32 * 32 * 3, 1024).to('mps')\n",
    "SGD_optimizer = SGD(model.parameters(), lr=lr)\n",
    "for epoch in range(n_epochs):\n",
    "  model.train()\n",
    "  total_loss = 0.\n",
    "    \n",
    "  for data in trainloader:\n",
    "    SGD_optimizer.zero_grad()\n",
    "    inputs, labels = data\n",
    "    inputs, labels = inputs.to('mps'), labels.to('mps')\n",
    "\n",
    "    preds = model(inputs)\n",
    "    loss=criterion(preds, labels)\n",
    "    loss.backward()\n",
    "    SGD_optimizer.step()\n",
    "    total_loss += loss.item()\n",
    "\n",
    "  model.eval()\n",
    "  sgd_loss = accuracy(model, trainloader)\n",
    "  sgd_acc.append(sgd_loss)\n",
    "  print(f\"Epoch {epoch:3d} | Loss: {total_loss}\")"
   ]
  },
  {
   "cell_type": "code",
   "execution_count": 289,
   "id": "9a87a549-030c-4b94-be7c-3040291d2567",
   "metadata": {},
   "outputs": [
    {
     "name": "stdout",
     "output_type": "stream",
     "text": [
      "Epoch   0 | Loss: 432.37672102451324\n",
      "Epoch   1 | Loss: 344.205771446228\n",
      "Epoch   2 | Loss: 316.78154265880585\n",
      "Epoch   3 | Loss: 302.2333290576935\n",
      "Epoch   4 | Loss: 292.6517388820648\n",
      "Epoch   5 | Loss: 284.28676879405975\n",
      "Epoch   6 | Loss: 278.0552451610565\n",
      "Epoch   7 | Loss: 271.29785108566284\n",
      "Epoch   8 | Loss: 264.7438108921051\n",
      "Epoch   9 | Loss: 258.49699878692627\n",
      "Epoch  10 | Loss: 253.319398522377\n",
      "Epoch  11 | Loss: 249.32457172870636\n",
      "Epoch  12 | Loss: 244.09508347511292\n",
      "Epoch  13 | Loss: 238.62214732170105\n",
      "Epoch  14 | Loss: 234.42700278759003\n",
      "Epoch  15 | Loss: 229.34073412418365\n",
      "Epoch  16 | Loss: 223.52306747436523\n",
      "Epoch  17 | Loss: 219.31884229183197\n",
      "Epoch  18 | Loss: 215.68197864294052\n",
      "Epoch  19 | Loss: 209.18366104364395\n",
      "Epoch  20 | Loss: 204.69600039720535\n",
      "Epoch  21 | Loss: 198.98360991477966\n",
      "Epoch  22 | Loss: 194.9204386472702\n",
      "Epoch  23 | Loss: 190.18938207626343\n",
      "Epoch  24 | Loss: 183.8560637831688\n",
      "Epoch  25 | Loss: 181.6059204339981\n",
      "Epoch  26 | Loss: 176.4906520843506\n",
      "Epoch  27 | Loss: 169.77251708507538\n",
      "Epoch  28 | Loss: 164.82528883218765\n",
      "Epoch  29 | Loss: 161.00380492210388\n",
      "Epoch  30 | Loss: 158.58014464378357\n",
      "Epoch  31 | Loss: 151.6016862988472\n",
      "Epoch  32 | Loss: 148.03015738725662\n",
      "Epoch  33 | Loss: 143.28979247808456\n",
      "Epoch  34 | Loss: 139.064688205719\n",
      "Epoch  35 | Loss: 134.69237622618675\n",
      "Epoch  36 | Loss: 129.4536930322647\n",
      "Epoch  37 | Loss: 124.7386181652546\n",
      "Epoch  38 | Loss: 124.0015429854393\n",
      "Epoch  39 | Loss: 120.15694147348404\n",
      "Epoch  40 | Loss: 116.12987565994263\n",
      "Epoch  41 | Loss: 111.49193832278252\n",
      "Epoch  42 | Loss: 106.40734142065048\n",
      "Epoch  43 | Loss: 103.06627476215363\n",
      "Epoch  44 | Loss: 103.63328525424004\n",
      "Epoch  45 | Loss: 98.23254454135895\n",
      "Epoch  46 | Loss: 94.25478684902191\n",
      "Epoch  47 | Loss: 90.00817096233368\n",
      "Epoch  48 | Loss: 90.7372398674488\n",
      "Epoch  49 | Loss: 85.71563956141472\n"
     ]
    }
   ],
   "source": [
    "n_epochs = 50\n",
    "criterion = nn.CrossEntropyLoss()\n",
    "adam_acc = []\n",
    "adam_test_acc = []\n",
    "model = Model(32 * 32 * 3, 1024).to('mps')\n",
    "Adam_optimizer = Adam(model.parameters(), lr=lr)\n",
    "for epoch in range(n_epochs):\n",
    "  model.train()\n",
    "  total_loss = 0.\n",
    "    \n",
    "  for data in trainloader:\n",
    "    Adam_optimizer.zero_grad()\n",
    "    inputs, labels = data\n",
    "    inputs, labels = inputs.to('mps'), labels.to('mps')\n",
    "\n",
    "    preds = model(inputs)\n",
    "    loss=criterion(preds, labels)\n",
    "    loss.backward()\n",
    "    Adam_optimizer.step()\n",
    "    total_loss += loss.item()\n",
    "\n",
    "  model.eval()\n",
    "  adam_loss = accuracy(model, trainloader)\n",
    "  adam_test_loss = accuracy(model, testloader)\n",
    "  adam_acc.append(adam_loss)\n",
    "  adam_test_acc.append(adam_test_loss)\n",
    "\n",
    "  print(f\"Epoch {epoch:3d} | Loss: {total_loss}\")"
   ]
  },
  {
   "cell_type": "code",
   "execution_count": 271,
   "id": "dfa97ea9-1528-4f33-b1a3-38f6242ebc2f",
   "metadata": {},
   "outputs": [],
   "source": [
    "import numpy as np\n",
    "import matplotlib.pyplot as plt\n",
    "def plot_acc(train_accs, test_accs, label1, label2):\n",
    "  x = np.arange(len(train_accs))\n",
    "\n",
    "  plt.plot(x, train_accs, label=label1)\n",
    "  plt.plot(x, test_accs, label=label2)\n",
    "  plt.legend()\n",
    "  plt.show()\n"
   ]
  },
  {
   "cell_type": "code",
   "execution_count": 272,
   "id": "042ed132-def8-4d8a-a8ed-cf2d7c2525cc",
   "metadata": {},
   "outputs": [
    {
     "data": {
      "image/png": "[encoded data removed]",
      "text/plain": [
       "<Figure size 640x480 with 1 Axes>"
      ]
     },
     "metadata": {},
     "output_type": "display_data"
    }
   ],
   "source": [
    "plot_acc(sgd_acc, adam_acc, \"SGD\", \"ADAM\")"
   ]
  },
  {
   "cell_type": "code",
   "execution_count": 283,
   "id": "3000ffd6-28b0-4792-a63d-999602006c16",
   "metadata": {},
   "outputs": [
    {
     "name": "stdout",
     "output_type": "stream",
     "text": [
      "Epoch   0 | Loss: 413.93372869491577\n",
      "Epoch   1 | Loss: 395.58033978939056\n",
      "Epoch   2 | Loss: 388.2659111022949\n",
      "Epoch   3 | Loss: 384.4196888208389\n",
      "Epoch   4 | Loss: 381.8907368183136\n",
      "Epoch   5 | Loss: 380.0124179124832\n",
      "Epoch   6 | Loss: 378.626420378685\n",
      "Epoch   7 | Loss: 376.85352969169617\n",
      "Epoch   8 | Loss: 375.69295144081116\n",
      "Epoch   9 | Loss: 374.3230490684509\n",
      "Epoch  10 | Loss: 372.37854969501495\n",
      "Epoch  11 | Loss: 371.614306807518\n",
      "Epoch  12 | Loss: 370.9043619632721\n",
      "Epoch  13 | Loss: 369.97166907787323\n",
      "Epoch  14 | Loss: 368.88791584968567\n",
      "Epoch  15 | Loss: 367.9624629020691\n",
      "Epoch  16 | Loss: 366.8065752983093\n",
      "Epoch  17 | Loss: 366.20015048980713\n",
      "Epoch  18 | Loss: 366.2418931722641\n",
      "Epoch  19 | Loss: 365.743528008461\n",
      "Epoch  20 | Loss: 364.3928816318512\n",
      "Epoch  21 | Loss: 364.5672240257263\n",
      "Epoch  22 | Loss: 363.4538758993149\n",
      "Epoch  23 | Loss: 362.6864846944809\n",
      "Epoch  24 | Loss: 362.0974301099777\n",
      "Epoch  25 | Loss: 361.7759187221527\n",
      "Epoch  26 | Loss: 361.60866689682007\n",
      "Epoch  27 | Loss: 360.8332920074463\n",
      "Epoch  28 | Loss: 359.8521659374237\n",
      "Epoch  29 | Loss: 360.08707559108734\n",
      "Epoch  30 | Loss: 359.44741010665894\n",
      "Epoch  31 | Loss: 358.90672183036804\n",
      "Epoch  32 | Loss: 358.17561662197113\n",
      "Epoch  33 | Loss: 358.627489566803\n",
      "Epoch  34 | Loss: 358.1670413017273\n",
      "Epoch  35 | Loss: 357.3306404352188\n",
      "Epoch  36 | Loss: 356.6257393360138\n",
      "Epoch  37 | Loss: 355.87134289741516\n",
      "Epoch  38 | Loss: 356.6957263946533\n",
      "Epoch  39 | Loss: 354.9373415708542\n",
      "Epoch  40 | Loss: 355.4419878721237\n",
      "Epoch  41 | Loss: 355.0112154483795\n",
      "Epoch  42 | Loss: 354.87904500961304\n",
      "Epoch  43 | Loss: 354.2701653242111\n",
      "Epoch  44 | Loss: 354.23425030708313\n",
      "Epoch  45 | Loss: 354.38962042331696\n",
      "Epoch  46 | Loss: 353.51036989688873\n",
      "Epoch  47 | Loss: 353.10868859291077\n",
      "Epoch  48 | Loss: 352.9838317632675\n",
      "Epoch  49 | Loss: 352.52694296836853\n"
     ]
    }
   ],
   "source": [
    "n_epochs = 50\n",
    "criterion = nn.CrossEntropyLoss()\n",
    "sig_acc = []\n",
    "model = sig_Model(32 * 32 * 3, 1024).to('mps')\n",
    "Adam_optimizer = Adam(model.parameters(), lr=lr)\n",
    "for epoch in range(n_epochs):\n",
    "  model.train()\n",
    "  total_loss = 0.\n",
    "    \n",
    "  for data in trainloader:\n",
    "    Adam_optimizer.zero_grad()\n",
    "    inputs, labels = data\n",
    "    inputs, labels = inputs.to('mps'), labels.to('mps')\n",
    "\n",
    "    preds = model(inputs)\n",
    "    loss=criterion(preds, labels)\n",
    "    loss.backward()\n",
    "    Adam_optimizer.step()\n",
    "    total_loss += loss.item()\n",
    "\n",
    "  model.eval()\n",
    "  sig_loss = accuracy(model, trainloader)\n",
    "  sig_acc.append(sig_loss)\n",
    "  \n",
    "  print(f\"Epoch {epoch:3d} | Loss: {total_loss}\")"
   ]
  },
  {
   "cell_type": "code",
   "execution_count": 284,
   "id": "0f6df1a8-ec4b-4be7-9334-c88b1916f52d",
   "metadata": {},
   "outputs": [
    {
     "data": {
      "image/png": "[encoded data removed]",
      "text/plain": [
       "<Figure size 640x480 with 1 Axes>"
      ]
     },
     "metadata": {},
     "output_type": "display_data"
    }
   ],
   "source": [
    "plot_acc(sig_acc, adam_acc, \"sigmoid\", \"leaky relu\")"
   ]
  },
  {
   "cell_type": "code",
   "execution_count": 287,
   "id": "1e828343-f934-41dd-9872-2e632a2754bb",
   "metadata": {},
   "outputs": [
    {
     "name": "stdout",
     "output_type": "stream",
     "text": [
      "Epoch   0 | Loss: 411.2585700750351\n",
      "Epoch   1 | Loss: 394.0401793718338\n",
      "Epoch   2 | Loss: 387.01703238487244\n",
      "Epoch   3 | Loss: 384.1708097457886\n",
      "Epoch   4 | Loss: 381.4952040910721\n",
      "Epoch   5 | Loss: 379.7715097665787\n",
      "Epoch   6 | Loss: 377.54999673366547\n",
      "Epoch   7 | Loss: 376.43241465091705\n",
      "Epoch   8 | Loss: 374.74080789089203\n",
      "Epoch   9 | Loss: 373.934072971344\n",
      "Epoch  10 | Loss: 372.20495223999023\n",
      "Epoch  11 | Loss: 371.74720764160156\n",
      "Epoch  12 | Loss: 370.1963449716568\n",
      "Epoch  13 | Loss: 369.2909115552902\n",
      "Epoch  14 | Loss: 367.70750176906586\n",
      "Epoch  15 | Loss: 367.93340170383453\n",
      "Epoch  16 | Loss: 366.6038250923157\n",
      "Epoch  17 | Loss: 366.06836903095245\n",
      "Epoch  18 | Loss: 365.1544897556305\n",
      "Epoch  19 | Loss: 364.66806745529175\n",
      "Epoch  20 | Loss: 363.87702679634094\n",
      "Epoch  21 | Loss: 363.648903131485\n",
      "Epoch  22 | Loss: 362.6644324064255\n",
      "Epoch  23 | Loss: 362.4572170972824\n",
      "Epoch  24 | Loss: 361.5699601173401\n",
      "Epoch  25 | Loss: 361.29019141197205\n",
      "Epoch  26 | Loss: 360.69465255737305\n",
      "Epoch  27 | Loss: 360.0755077600479\n",
      "Epoch  28 | Loss: 359.90964782238007\n",
      "Epoch  29 | Loss: 359.1517678499222\n",
      "Epoch  30 | Loss: 358.7406647205353\n",
      "Epoch  31 | Loss: 357.7961149215698\n",
      "Epoch  32 | Loss: 357.37460136413574\n",
      "Epoch  33 | Loss: 357.7728613615036\n",
      "Epoch  34 | Loss: 356.33901488780975\n",
      "Epoch  35 | Loss: 356.42546117305756\n",
      "Epoch  36 | Loss: 356.0381609201431\n",
      "Epoch  37 | Loss: 355.1101303100586\n",
      "Epoch  38 | Loss: 354.7201694250107\n",
      "Epoch  39 | Loss: 355.1401022672653\n",
      "Epoch  40 | Loss: 354.41172766685486\n",
      "Epoch  41 | Loss: 353.7587460279465\n",
      "Epoch  42 | Loss: 353.7546570301056\n",
      "Epoch  43 | Loss: 353.0696313381195\n",
      "Epoch  44 | Loss: 352.5471433401108\n",
      "Epoch  45 | Loss: 352.8541486263275\n",
      "Epoch  46 | Loss: 351.752427816391\n",
      "Epoch  47 | Loss: 351.9387159347534\n",
      "Epoch  48 | Loss: 351.4426316022873\n",
      "Epoch  49 | Loss: 351.0525543689728\n"
     ]
    }
   ],
   "source": [
    "n_epochs = 50\n",
    "criterion = nn.CrossEntropyLoss()\n",
    "dropout_train_acc = []\n",
    "dropout_test_acc = []\n",
    "model = dropout_Model(32 * 32 * 3, 1024).to('mps')\n",
    "Adam_optimizer = Adam(model.parameters(), lr=lr)\n",
    "for epoch in range(n_epochs):\n",
    "  model.train()\n",
    "  total_loss = 0.\n",
    "    \n",
    "  for data in trainloader:\n",
    "    Adam_optimizer.zero_grad()\n",
    "    inputs, labels = data\n",
    "    inputs, labels = inputs.to('mps'), labels.to('mps')\n",
    "\n",
    "    preds = model(inputs)\n",
    "    loss=criterion(preds, labels)\n",
    "    loss.backward()\n",
    "    Adam_optimizer.step()\n",
    "    total_loss += loss.item()\n",
    "\n",
    "  with torch.no_grad():\n",
    "    model.eval()\n",
    "  \n",
    "    dropout_train_loss = accuracy(model, trainloader)\n",
    "    dropout_test_loss = accuracy(model, testloader)\n",
    "    dropout_train_acc.append(dropout_train_loss)\n",
    "    dropout_test_acc.append(dropout_test_loss)\n",
    "  \n",
    "  print(f\"Epoch {epoch:3d} | Loss: {total_loss}\")"
   ]
  },
  {
   "cell_type": "code",
   "execution_count": 303,
   "id": "9317c286-18a8-494b-8069-a693167e766f",
   "metadata": {},
   "outputs": [
    {
     "data": {
      "image/png": "[encoded data removed]",
      "text/plain": [
       "<Figure size 640x480 with 1 Axes>"
      ]
     },
     "metadata": {},
     "output_type": "display_data"
    }
   ],
   "source": [
    "plot_acc(dropout_train_acc, dropout_test_acc, \"dropout_train\", \"dropout_test\")"
   ]
  }
 ],
 "metadata": {
  "kernelspec": {
   "display_name": "Python (myenv)",
   "language": "python",
   "name": "myenv"
  },
  "language_info": {
   "codemirror_mode": {
    "name": "ipython",
    "version": 3
   },
   "file_extension": ".py",
   "mimetype": "text/x-python",
   "name": "python",
   "nbconvert_exporter": "python",
   "pygments_lexer": "ipython3",
   "version": "3.12.5"
  }
 },
 "nbformat": 4,
 "nbformat_minor": 5
}
